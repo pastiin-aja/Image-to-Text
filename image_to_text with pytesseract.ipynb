{
 "cells": [
  {
   "cell_type": "code",
   "execution_count": null,
   "metadata": {},
   "outputs": [],
   "source": [
    "#pertama, kita harus install dulu Tesseract installer for Windows, formatnya .exe , baru kita install library-nya\n",
    "https://digi.bib.uni-mannheim.de/tesseract/tesseract-ocr-w64-setup-5.3.3.20231005.exe"
   ]
  },
  {
   "cell_type": "code",
   "execution_count": 1,
   "metadata": {},
   "outputs": [
    {
     "name": "stdout",
     "output_type": "stream",
     "text": [
      "Collecting pytesseractNote: you may need to restart the kernel to use updated packages.\n",
      "\n",
      "  Using cached pytesseract-0.3.10-py3-none-any.whl (14 kB)\n",
      "Requirement already satisfied: packaging>=21.3 in c:\\users\\alipa\\appdata\\local\\packages\\pythonsoftwarefoundation.python.3.8_qbz5n2kfra8p0\\localcache\\local-packages\\python38\\site-packages (from pytesseract) (23.2)\n",
      "Requirement already satisfied: Pillow>=8.0.0 in c:\\users\\alipa\\appdata\\local\\packages\\pythonsoftwarefoundation.python.3.8_qbz5n2kfra8p0\\localcache\\local-packages\\python38\\site-packages (from pytesseract) (10.1.0)\n",
      "Installing collected packages: pytesseract\n",
      "Successfully installed pytesseract-0.3.10\n"
     ]
    }
   ],
   "source": [
    "pip install pytesseract"
   ]
  },
  {
   "cell_type": "code",
   "execution_count": 2,
   "metadata": {},
   "outputs": [],
   "source": [
    "from PIL import Image \n",
    "from pytesseract import pytesseract "
   ]
  },
  {
   "cell_type": "code",
   "execution_count": 3,
   "metadata": {},
   "outputs": [],
   "source": [
    "# Defining paths to tesseract.exe \n",
    "# and the image we would be using \n",
    "path_to_tesseract = r\"C:\\Program Files\\Tesseract-OCR\\tesseract.exe\"\n",
    "image_path = r\"C:\\Users\\alipa\\OneDrive\\Pictures\\Screenshots\\Screenshot (218).png\""
   ]
  },
  {
   "cell_type": "markdown",
   "metadata": {},
   "source": []
  },
  {
   "cell_type": "code",
   "execution_count": 4,
   "metadata": {},
   "outputs": [],
   "source": [
    "# Opening the image & storing it in an image object \n",
    "img = Image.open(image_path) \n",
    "img.show()"
   ]
  },
  {
   "cell_type": "markdown",
   "metadata": {},
   "source": []
  },
  {
   "cell_type": "code",
   "execution_count": 5,
   "metadata": {},
   "outputs": [],
   "source": [
    "# Providing the tesseract executable \n",
    "# location to pytesseract library \n",
    "pytesseract.tesseract_cmd = path_to_tesseract \n",
    "  \n",
    "# Passing the image object to image_to_string() function \n",
    "# This function will extract the text from the image \n",
    "text = pytesseract.image_to_string(img) "
   ]
  },
  {
   "cell_type": "code",
   "execution_count": 6,
   "metadata": {},
   "outputs": [
    {
     "name": "stdout",
     "output_type": "stream",
     "text": [
      "Home - Bangkit Student Dashbe Xx | & Universitas Pendidikan Indonesi xX  & Universitas Pendidikan Indonesi X +\n",
      "\n",
      "€ SC W4® a attcupiedu exw 6&2 O v\n",
      "\n",
      "© Google » YouTube [MM SolidStatePhy  Mod-Exp [MM Phy-Leam » ConstraintLayout T... Modern Dashboard... CompTIA G . A ANALITYC BA... 9 IELTS-up - your bes...\n",
      "\n",
      "& TEST CENTER UPI Mochmad Putra Kusumah v\n",
      "\n",
      "Jadwal Ujian\n",
      "- Waktu Ujian : 25/10/2023 10:30:00\n",
      "- Tempat Ujian : Kampus Bumi Siliwangi (DSTI), Direktorat STI, Kelas G\n",
      "\n",
      "Silahkan di screenshoot jadwal di layar aplikasi anda (*) Jadwal sewaktu waktu bisa berubah, mohon cek kembali dihari selasa malam\n",
      "\n",
      "© 2018 Direktorat STI - UPI\n",
      "\n",
      "Qseacr Ll @ i) oO Ovna&s nr Ss “<S) momen ©\n"
     ]
    }
   ],
   "source": [
    "# Displaying the extracted text \n",
    "print(text[:-1])"
   ]
  }
 ],
 "metadata": {
  "kernelspec": {
   "display_name": "Python 3",
   "language": "python",
   "name": "python3"
  },
  "language_info": {
   "codemirror_mode": {
    "name": "ipython",
    "version": 3
   },
   "file_extension": ".py",
   "mimetype": "text/x-python",
   "name": "python",
   "nbconvert_exporter": "python",
   "pygments_lexer": "ipython3",
   "version": "3.8.10"
  }
 },
 "nbformat": 4,
 "nbformat_minor": 2
}
